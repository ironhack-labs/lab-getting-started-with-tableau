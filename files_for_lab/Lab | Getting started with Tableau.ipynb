{
 "cells": [
  {
   "cell_type": "markdown",
   "id": "f359a4ab",
   "metadata": {},
   "source": [
    "# Lab | Getting started with Tableau"
   ]
  },
  {
   "cell_type": "raw",
   "id": "7c95bc50",
   "metadata": {},
   "source": [
    " Refer to the files_for_lab/we_fn_use_c_marketing_customer_value_analysis.csv dataset."
   ]
  },
  {
   "cell_type": "markdown",
   "id": "81acd5b8",
   "metadata": {},
   "source": [
    "# Instructions\n",
    "1. Load the dataset into a notebook.\n",
    "2. Create a barplot of the number of customers per Gender.\n",
    "3. Create a barplot of the number of customers per EmploymentStatus and Gender.\n",
    "4. Identify Measurements and Dimensions. Are they the same as the ones in your Pandas dataframe? Modify accordingly.\n",
    "5. Save as unit-4-lab.tbwx."
   ]
  },
  {
   "cell_type": "markdown",
   "id": "26aff0be",
   "metadata": {},
   "source": [
    "# LINK\n",
    "\n",
    "\n"
   ]
  },
  {
   "cell_type": "code",
   "execution_count": null,
   "id": "152ebaf4",
   "metadata": {},
   "outputs": [],
   "source": []
  }
 ],
 "metadata": {
  "kernelspec": {
   "display_name": "Python 3 (ipykernel)",
   "language": "python",
   "name": "python3"
  },
  "language_info": {
   "codemirror_mode": {
    "name": "ipython",
    "version": 3
   },
   "file_extension": ".py",
   "mimetype": "text/x-python",
   "name": "python",
   "nbconvert_exporter": "python",
   "pygments_lexer": "ipython3",
   "version": "3.9.13"
  }
 },
 "nbformat": 4,
 "nbformat_minor": 5
}
